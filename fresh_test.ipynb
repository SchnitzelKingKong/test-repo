{
 "cells": [
  {
   "cell_type": "markdown",
   "id": "c33ef2ae",
   "metadata": {},
   "source": [
    "# Fresh Kernel Test\n",
    "\n",
    "Testing kernel connection with explicit kernel specification."
   ]
  },
  {
   "cell_type": "code",
   "execution_count": 1,
   "id": "7f1146b3",
   "metadata": {},
   "outputs": [
    {
     "name": "stdout",
     "output_type": "stream",
     "text": [
      "Python version: 3.12.1 (main, Jul 10 2025, 11:57:50) [GCC 13.3.0]\n"
     ]
    }
   ],
   "source": [
    "import sys\n",
    "print(f\"Python version: {sys.version}\")"
   ]
  }
 ],
 "metadata": {
  "kernelspec": {
   "display_name": "Python 3",
   "language": "python",
   "name": "python3"
  },
  "language_info": {
   "codemirror_mode": {
    "name": "ipython",
    "version": 3
   },
   "file_extension": ".py",
   "mimetype": "text/x-python",
   "name": "python",
   "nbconvert_exporter": "python",
   "pygments_lexer": "ipython3",
   "version": "3.12.1"
  }
 },
 "nbformat": 4,
 "nbformat_minor": 5
}
