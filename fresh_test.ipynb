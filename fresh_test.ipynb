{
 "cells": [
  {
   "cell_type": "markdown",
   "id": "c33ef2ae",
   "metadata": {},
   "source": [
    "# Fresh Kernel Test\n",
    "\n",
    "Testing kernel connection with explicit kernel specification."
   ]
  },
  {
   "cell_type": "code",
   "execution_count": null,
   "id": "7f1146b3",
   "metadata": {},
   "outputs": [],
   "source": [
    "import sys\n",
    "print(f\"Python version: {sys.version}\")"
   ]
  }
 ],
 "metadata": {
  "language_info": {
   "name": "python"
  }
 },
 "nbformat": 4,
 "nbformat_minor": 5
}
