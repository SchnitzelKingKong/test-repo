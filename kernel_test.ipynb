{
 "cells": [
  {
   "cell_type": "markdown",
   "id": "8732f509",
   "metadata": {},
   "source": [
    "# Jupyter Kernel Test\n",
    "\n",
    "This notebook will help verify if Jupyter kernels are working properly."
   ]
  },
  {
   "cell_type": "code",
   "execution_count": null,
   "id": "96297cd0",
   "metadata": {},
   "outputs": [],
   "source": [
    "print(\"If you see this message, the Python kernel is working!\")"
   ]
  }
 ],
 "metadata": {
  "language_info": {
   "name": "python"
  }
 },
 "nbformat": 4,
 "nbformat_minor": 5
}
