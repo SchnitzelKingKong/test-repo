{
 "cells": [
  {
   "cell_type": "markdown",
   "id": "8732f509",
   "metadata": {},
   "source": [
    "# Jupyter Kernel Test\n",
    "\n",
    "This notebook will help verify if Jupyter kernels are working properly."
   ]
  },
  {
   "cell_type": "code",
   "execution_count": 1,
   "id": "96297cd0",
   "metadata": {},
   "outputs": [
    {
     "name": "stdout",
     "output_type": "stream",
     "text": [
      "If you see this message, the Python kernel is working!\n"
     ]
    }
   ],
   "source": [
    "print(\"If you see this message, the Python kernel is working!\")"
   ]
  }
 ],
 "metadata": {
  "kernelspec": {
   "display_name": "Python 3",
   "language": "python",
   "name": "python3"
  },
  "language_info": {
   "codemirror_mode": {
    "name": "ipython",
    "version": 3
   },
   "file_extension": ".py",
   "mimetype": "text/x-python",
   "name": "python",
   "nbconvert_exporter": "python",
   "pygments_lexer": "ipython3",
   "version": "3.12.1"
  }
 },
 "nbformat": 4,
 "nbformat_minor": 5
}
