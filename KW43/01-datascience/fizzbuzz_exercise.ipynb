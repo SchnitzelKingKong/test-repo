{
 "cells": [
  {
   "cell_type": "code",
   "execution_count": 10,
   "id": "91edb7ad",
   "metadata": {},
   "outputs": [],
   "source": [
    "# TODO : Create function!\n",
    "\n",
    "def fizz_buzz(input):\n",
    "    if isinstance(input, int) or (isinstance(input, str) and input.strip().isdigit()):\n",
    "        if (int(input) % 5 == 0) and (int(input) % 3 == 0):\n",
    "            return \"FizzBuzz\"\n",
    "        if int(input) % 3 == 0:\n",
    "            return \"Fizz\"\n",
    "        if int(input) % 5 == 0:\n",
    "            return \"Buzz\"\n",
    "        return input\n",
    "    return input\n",
    "    \"\"\"\n",
    "    input / 3 = \"Fizz\"\n",
    "    input / 5 = \"Buzz\"\n",
    "\n",
    "    is not input / 3 / 5 = 'input'\n",
    "    \"\"\""
   ]
  },
  {
   "cell_type": "code",
   "execution_count": 11,
   "id": "bae2cffa",
   "metadata": {},
   "outputs": [],
   "source": [
    "EINGABE = 60"
   ]
  },
  {
   "cell_type": "code",
   "execution_count": 12,
   "id": "ba2dbe55",
   "metadata": {},
   "outputs": [
    {
     "name": "stdout",
     "output_type": "stream",
     "text": [
      "FizzBuzz\n"
     ]
    }
   ],
   "source": [
    "result = fizz_buzz(EINGABE)\n",
    "print(result)"
   ]
  }
 ],
 "metadata": {
  "kernelspec": {
   "display_name": "Python 3",
   "language": "python",
   "name": "python3"
  },
  "language_info": {
   "codemirror_mode": {
    "name": "ipython",
    "version": 3
   },
   "file_extension": ".py",
   "mimetype": "text/x-python",
   "name": "python",
   "nbconvert_exporter": "python",
   "pygments_lexer": "ipython3",
   "version": "3.12.1"
  }
 },
 "nbformat": 4,
 "nbformat_minor": 5
}
