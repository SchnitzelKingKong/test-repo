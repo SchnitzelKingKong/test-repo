{
 "cells": [
  {
   "cell_type": "markdown",
   "id": "6a7e4c7c",
   "metadata": {},
   "source": [
    "### Importing main API and Data Source"
   ]
  },
  {
   "cell_type": "code",
   "execution_count": 368,
   "id": "1bce5aa8",
   "metadata": {},
   "outputs": [],
   "source": [
    "import numpy as np\n",
    "import calendar as cal\n",
    "from datetime import datetime\n",
    "import matplotlib.pyplot as plt"
   ]
  },
  {
   "cell_type": "markdown",
   "id": "46d36469",
   "metadata": {},
   "source": [
    "### Task (1)"
   ]
  },
  {
   "cell_type": "code",
   "execution_count": 369,
   "id": "dcdbbffd",
   "metadata": {},
   "outputs": [
    {
     "name": "stdout",
     "output_type": "stream",
     "text": [
      "shape of 'arr_total': (2601, 5)\n",
      "---\n",
      "\n",
      "average temp (all year): 12.10°C\n"
     ]
    }
   ],
   "source": [
    "# TODO : Calculate the overall average temperature.\n",
    "DATA = \"wetter.csv\"\n",
    "# Reading CSV file and transforming it to full data array.\n",
    "arr_total = np.genfromtxt(DATA, delimiter=',', skip_header=1)   # dtype=float by default\n",
    "\n",
    "# Putting Data into a 1D Array (data = [1, 2, 3, 4, 5, 6, 9.87654321])\n",
    "data = arr_total[:,2]                 # (:) all rows, (2) 3rd column from the left (count starts at 0)\n",
    "mean_temp_all = np.mean(data)            # averaging dataset with the 'np.mean()' function\n",
    "\n",
    "# Printing shapes/results for reference.\n",
    "print(f\"shape of 'arr_total': {arr_total.shape}\\n---\\n\")\n",
    "print(f\"average temp (all year): {mean_temp_all:.2f}°C\")"
   ]
  },
  {
   "cell_type": "markdown",
   "id": "faee0e00",
   "metadata": {},
   "source": [
    "### Task (2) & (3)"
   ]
  },
  {
   "cell_type": "code",
   "execution_count": 391,
   "id": "a3dd3892",
   "metadata": {},
   "outputs": [
    {
     "name": "stdout",
     "output_type": "stream",
     "text": [
      "# Task(2):      Average temp (jul): 20.75°C\n",
      "# Task(2):      Average temp (may): 15.24°C\n",
      "# Task(3):      Difference temp (ΔT[may,jul]): 5.51°C\n",
      "\n",
      "-------------------------------------------------------\n",
      "\n",
      "# Task(3.1):    Difference temp (ΔT[apr,jun]): 7.80°C\n",
      "# Task(3.2):    Difference temp (ΔT[mar,may]): 7.88°C\n",
      "# Task(3.3):    Difference temp (ΔT[feb,apr]): 6.80°C\n",
      "# Task(3.4):    Difference temp (ΔT[jan,mar]): 4.50°C\n",
      "# Task(3.5):    Difference temp (ΔT[dec,feb]): 1.22°C\n",
      "# Task(3.6):    Difference temp (ΔT[nov,jan]): 4.53°C\n",
      "# Task(3.7):    Difference temp (ΔT[nov,jan]): 7.52°C\n",
      "# Task(3.8):    Difference temp (ΔT[nov,jan]): 9.55°C\n",
      "# Task(3.9):    Difference temp (ΔT[nov,jan]): 7.67°C\n",
      "# Task(3.10):   Difference temp (ΔT[nov,jan]): 3.81°C\n",
      "# Task(3.11):   Difference temp (ΔT[nov,jan]): 1.80°C\n",
      "\n",
      "-------------------------------------------------------\n",
      "\n",
      "# Average temp (ΔT[may,jun,jul]): 18.15°C\n"
     ]
    }
   ],
   "source": [
    "# TODO : Calculate the average temperature for the month of July.\n",
    "# TODO : Compare whether the months of July and May differ significantly in their average temperature\n",
    "\n",
    "# Reading CSV file and transforming it to full data array. Keeping Date column as string -> Tuple.\n",
    "arr = np.genfromtxt(DATA, delimiter=',', skip_header=1, dtype=None, encoding='utf-8')\n",
    "\n",
    "def mean_temp_func(ls, month):\n",
    "    mm = {f\"{int(m):02d}\" for m in month}\n",
    "    vals = [float(r[2]) for r in ls if isinstance(r[0], str) and r[0][5:7] in mm]\n",
    "    return float(np.nanmean(vals)) if vals else np.nan\n",
    "\n",
    "# Printing average temp\n",
    "print(f\"# Task(2):      Average temp (jul): {mean_temp_func(arr,{7}):.2f}°C\")\n",
    "print(f\"# Task(2):      Average temp (may): {mean_temp_func(arr,{5}):.2f}°C\")\n",
    "print(f\"# Task(3):      Difference temp (ΔT[may,jul]): {np.abs(mean_temp_func(arr,{5})-mean_temp_func(arr,{7})):.2f}°C\\n\")\n",
    "print(\"-\"*55 + \"\\n\")\n",
    "print(f\"# Task(3.1):    Difference temp (ΔT[apr,jun]): {np.abs(mean_temp_func(arr,{4})-mean_temp_func(arr,{6})):.2f}°C\")\n",
    "print(f\"# Task(3.2):    Difference temp (ΔT[mar,may]): {np.abs(mean_temp_func(arr,{3})-mean_temp_func(arr,{5})):.2f}°C\")\n",
    "print(f\"# Task(3.3):    Difference temp (ΔT[feb,apr]): {np.abs(mean_temp_func(arr,{2})-mean_temp_func(arr,{4})):.2f}°C\")\n",
    "print(f\"# Task(3.4):    Difference temp (ΔT[jan,mar]): {np.abs(mean_temp_func(arr,{1})-mean_temp_func(arr,{3})):.2f}°C\")\n",
    "print(f\"# Task(3.5):    Difference temp (ΔT[dec,feb]): {np.abs(mean_temp_func(arr,{12})-mean_temp_func(arr,{2})):.2f}°C\")\n",
    "print(f\"# Task(3.6):    Difference temp (ΔT[nov,jan]): {np.abs(mean_temp_func(arr,{11})-mean_temp_func(arr,{1})):.2f}°C\")\n",
    "print(f\"# Task(3.7):    Difference temp (ΔT[nov,jan]): {np.abs(mean_temp_func(arr,{10})-mean_temp_func(arr,{12})):.2f}°C\")\n",
    "print(f\"# Task(3.8):    Difference temp (ΔT[nov,jan]): {np.abs(mean_temp_func(arr,{9})-mean_temp_func(arr,{11})):.2f}°C\")\n",
    "print(f\"# Task(3.9):    Difference temp (ΔT[nov,jan]): {np.abs(mean_temp_func(arr,{8})-mean_temp_func(arr,{10})):.2f}°C\")\n",
    "print(f\"# Task(3.10):   Difference temp (ΔT[nov,jan]): {np.abs(mean_temp_func(arr,{7})-mean_temp_func(arr,{9})):.2f}°C\")\n",
    "print(f\"# Task(3.11):   Difference temp (ΔT[nov,jan]): {np.abs(mean_temp_func(arr,{6})-mean_temp_func(arr,{8})):.2f}°C\\n\")\n",
    "print(\"-\"*55 + \"\\n\")\n",
    "print(f\"# Average temp (ΔT[may,jun,jul]): {mean_temp_func(arr,{5,6,7}):.2f}°C\")"
   ]
  },
  {
   "cell_type": "markdown",
   "id": "79e668cd",
   "metadata": {},
   "source": [
    "### All results from Task (1), (2) & (3)"
   ]
  },
  {
   "cell_type": "code",
   "execution_count": 371,
   "id": "56474dfa",
   "metadata": {},
   "outputs": [
    {
     "name": "stdout",
     "output_type": "stream",
     "text": [
      "\n",
      "-------------------------------------------------------\n",
      " TEMPERATURE STATISTICS\n",
      "-------------------------------------------------------\n",
      "\n",
      "mean_T (all)        =  12.10°C\n",
      "mean_T (may-july)   =  18.15°C\n",
      "\n",
      "mean_T (may)        =  15.24°C\n",
      "mean_T (july)       =  20.75°C\n",
      "\n",
      "ΔT(may, july)       = |15.24°C - 20.75°C| = 5.51°C\n",
      "\n",
      "-------------------------------------------------------\n",
      "\n"
     ]
    }
   ],
   "source": [
    "# Results printed!\n",
    "\n",
    "print(\"\\n\" + \"-\"*55)\n",
    "print(\" TEMPERATURE STATISTICS\")\n",
    "print(\"-\"*55 + \"\\n\")\n",
    "\n",
    "print(f\"mean_T (all)        = {mean_temp_all:6.2f}°C\")\n",
    "print(f\"mean_T (may-july)   = {mean_temp_func(arr,{5,6,7}):6.2f}°C\\n\")\n",
    "\n",
    "print(f\"mean_T (may)        = {mean_temp_func(arr,{5}):6.2f}°C\")\n",
    "print(f\"mean_T (july)       = {mean_temp_func(arr,{7}):6.2f}°C\\n\")\n",
    "\n",
    "print(f\"ΔT(may, july)       = |{mean_temp_func(arr,{5}):.2f}°C - {mean_temp_func(arr,{7}):.2f}°C| = {np.abs(mean_temp_func(arr,{5})-mean_temp_func(arr,{7})):.2f}°C\\n\")\n",
    "\n",
    "print(\"-\"*55 + \"\\n\")"
   ]
  },
  {
   "cell_type": "markdown",
   "id": "84277a12",
   "metadata": {},
   "source": [
    "# ~ ~ ~ ~ ~ ~ ~ ~ ~ ~ ~ ~ ~ ~ ~ ~ ~ ~ ~ ~ ~ ~ ~ ~ ~ ~ ~ ~ ~ ~ ~ ~ ~ ~ ~\n",
    "## Just for fun..."
   ]
  },
  {
   "cell_type": "code",
   "execution_count": 372,
   "id": "523749a1",
   "metadata": {},
   "outputs": [
    {
     "name": "stdout",
     "output_type": "stream",
     "text": [
      "Shape of 'arr': (2601,)\n",
      "Shape of 'dates': (2601,)\n",
      "Shape of 'temps': (2601,)\n"
     ]
    }
   ],
   "source": [
    "\n",
    "# Extracting and Converting first column[0] into actual date/time.\n",
    "dates = np.array([datetime.strptime(row[0], \"%Y-%m-%d\") for row in arr])\n",
    "\n",
    "# Extracting temperature column.\n",
    "temps = np.array([row[2] for row in arr], dtype=float)\n",
    "\n",
    "# Printing shapes for reference.\n",
    "print(f\"Shape of 'arr': {arr.shape}\")\n",
    "print(f\"Shape of 'dates': {dates.shape}\")\n",
    "print(f\"Shape of 'temps': {temps.shape}\")"
   ]
  },
  {
   "cell_type": "code",
   "execution_count": 373,
   "id": "d0b2ed94",
   "metadata": {},
   "outputs": [
    {
     "name": "stdout",
     "output_type": "stream",
     "text": [
      "Shape of 'months_num': (2601,)\n",
      "Shape of 'temps_filtered_arr': (3,)\n",
      "Shape of 'mean_temps': (3,)\n"
     ]
    }
   ],
   "source": [
    "# create months once\n",
    "months_num = np.array([d.month for d in dates])\n",
    "print(f\"Shape of 'months_num': {months_num.shape}\")\n",
    "\n",
    "# ---------\n",
    "# define mask specs as a list to feed into calculations (you can add more tuples/lists)\n",
    "masked_months_num = [[5, 6, 7], [5], [7]]\n",
    "# build list of boolean masks (each mask is 1D, length == len(dates))\n",
    "masks = [np.isin(months_num, vals) for vals in masked_months_num]\n",
    "# filtered temperatures per mask: list of 1D numpy arrays\n",
    "temps_filtered = [temps[m] for m in masks]\n",
    "# convert to object array if you prefer numpy-indexable container\n",
    "temps_filtered_arr = np.array(temps_filtered, dtype=object)\n",
    "print(f\"Shape of 'temps_filtered_arr': {temps_filtered_arr.shape}\")\n",
    "# ---------\n",
    "\n",
    "# per-mask means (use nanmean to ignore NaNs)\n",
    "mean_temps = np.array([np.nanmean(i) if i.size else np.nan for i in temps_filtered])\n",
    "print(f\"Shape of 'mean_temps': {mean_temps.shape}\")\n"
   ]
  },
  {
   "cell_type": "code",
   "execution_count": 374,
   "id": "f672b344",
   "metadata": {},
   "outputs": [],
   "source": [
    "# INFORMEL :  Introducing 'no.abs()' & showing the filter work.\n",
    "\n",
    "# calculation (MAE [Mean Absolut Error] – also is a good use case for the np.abs() function!)\n",
    "diff = np.abs(mean_temps[1]-mean_temps[2])\n",
    "\n",
    "# example prints by integer index\n",
    "## print(\"temps_filtered for mask 0:\", temps_filtered_arr[0])   # array of temps for [5,7]"
   ]
  },
  {
   "cell_type": "code",
   "execution_count": 375,
   "id": "b8075753",
   "metadata": {},
   "outputs": [
    {
     "name": "stdout",
     "output_type": "stream",
     "text": [
      "average temp (july): 17.99°C\n"
     ]
    },
    {
     "ename": "TypeError",
     "evalue": "month_to_num() takes 1 positional argument but 2 were given",
     "output_type": "error",
     "traceback": [
      "\u001b[31m---------------------------------------------------------------------------\u001b[39m",
      "\u001b[31mTypeError\u001b[39m                                 Traceback (most recent call last)",
      "\u001b[36mCell\u001b[39m\u001b[36m \u001b[39m\u001b[32mIn[375]\u001b[39m\u001b[32m, line 23\u001b[39m\n\u001b[32m     20\u001b[39m \u001b[38;5;66;03m# Printing average temp\u001b[39;00m\n\u001b[32m     22\u001b[39m \u001b[38;5;28mprint\u001b[39m(\u001b[33mf\u001b[39m\u001b[33m\"\u001b[39m\u001b[33maverage temp (july): \u001b[39m\u001b[38;5;132;01m{\u001b[39;00mmean_temp_func(arr,{\u001b[33m'\u001b[39m\u001b[33m5\u001b[39m\u001b[33m'\u001b[39m,\u001b[33m'\u001b[39m\u001b[33m7\u001b[39m\u001b[33m'\u001b[39m})\u001b[38;5;132;01m:\u001b[39;00m\u001b[33m.2f\u001b[39m\u001b[38;5;132;01m}\u001b[39;00m\u001b[33m°C\u001b[39m\u001b[33m\"\u001b[39m)\n\u001b[32m---> \u001b[39m\u001b[32m23\u001b[39m \u001b[38;5;28mprint\u001b[39m(\u001b[33mf\u001b[39m\u001b[33m\"\u001b[39m\u001b[33mmonth_to_num test: \u001b[39m\u001b[38;5;132;01m{\u001b[39;00m\u001b[43mmonth_to_num\u001b[49m\u001b[43m(\u001b[49m\u001b[33;43m'\u001b[39;49m\u001b[33;43mmay\u001b[39;49m\u001b[33;43m'\u001b[39;49m\u001b[43m,\u001b[49m\u001b[33;43m'\u001b[39;49m\u001b[33;43mjul\u001b[39;49m\u001b[33;43m'\u001b[39;49m\u001b[43m)\u001b[49m\u001b[38;5;132;01m}\u001b[39;00m\u001b[33m\"\u001b[39m)\n",
      "\u001b[31mTypeError\u001b[39m: month_to_num() takes 1 positional argument but 2 were given"
     ]
    }
   ],
   "source": [
    "# TODO : Calculate the average temperature for the month of July.\n",
    "\n",
    "# Reading CSV file and transforming it to full data array. Keeping Date column as string -> Tuple.\n",
    "arr = np.genfromtxt(DATA, delimiter=',', skip_header=1, dtype=None, encoding='utf-8')\n",
    "\n",
    "def month_to_num(s):\n",
    "    s = str(s).strip()\n",
    "    for fmt in ('%b', '%B'): # 'Jul' or 'July'\n",
    "        try:\n",
    "            return datetime.strptime(s, fmt).month\n",
    "        except ValueError:\n",
    "            pass\n",
    "    raise ValueError(f\"Unrecognized month: {s}\")\n",
    "\n",
    "def mean_temp_func(ls, month):\n",
    "    mm = {f\"{int(m):02d}\" for m in month}\n",
    "    vals = [float(r[2]) for r in ls if isinstance(r[0], str) and r[0][5:7] in mm]\n",
    "    return float(np.nanmean(vals)) if vals else np.nan\n",
    "\n",
    "# Printing average temp\n",
    "\n",
    "print(f\"average temp (july): {mean_temp_func(arr,{'5','7'}):.2f}°C\")\n",
    "print(f\"month_to_num test: {month_to_num('may','jul')}\")"
   ]
  },
  {
   "cell_type": "markdown",
   "id": "f2fa7235",
   "metadata": {},
   "source": [
    "### Organizing Final Outputs"
   ]
  },
  {
   "cell_type": "code",
   "execution_count": null,
   "id": "7d0991e9",
   "metadata": {},
   "outputs": [
    {
     "name": "stdout",
     "output_type": "stream",
     "text": [
      "\n",
      "-------------------------------------------------------\n",
      " TEMPERATURE STATISTICS\n",
      "-------------------------------------------------------\n",
      "\n",
      "mean_T (all)        =  12.10°C\n",
      "mean_T (may-july)   =  18.15°C\n",
      "\n",
      "mean_T (may)        =  15.24°C\n",
      "mean_T (july)       =  20.75°C\n",
      "\n",
      "ΔT(may, july)       = |15.24°C - 20.75°C| = 5.51°C\n",
      "\n",
      "data                = [ 9.825   7.4375  5.5375 ... 20.7375 20.45   21.0625]\n",
      "\n",
      "-------------------------------------------------------\n",
      "\n"
     ]
    }
   ],
   "source": [
    "# Results printed!\n",
    "\n",
    "print(\"\\n\" + \"-\"*55)\n",
    "print(\" TEMPERATURE STATISTICS\")\n",
    "print(\"-\"*55 + \"\\n\")\n",
    "\n",
    "print(f\"mean_T (all)        = {mean:6.2f}°C\")\n",
    "print(f\"mean_T (may-july)   = {mean_temps[0]:6.2f}°C\\n\")\n",
    "\n",
    "print(f\"mean_T (may)        = {mean_temps[1]:6.2f}°C\")\n",
    "print(f\"mean_T (july)       = {mean_temps[2]:6.2f}°C\\n\")\n",
    "\n",
    "print(f\"ΔT(may, july)       = |{mean_temps[1]:.2f}°C - {mean_temps[2]:.2f}°C| = {np.abs(mean_temps[1]-mean_temps[2]):.2f}°C\\n\")\n",
    "print(f\"data                = {data}\\n\")\n",
    "\n",
    "print(\"-\"*55 + \"\\n\")"
   ]
  }
 ],
 "metadata": {
  "kernelspec": {
   "display_name": "Python 3",
   "language": "python",
   "name": "python3"
  },
  "language_info": {
   "codemirror_mode": {
    "name": "ipython",
    "version": 3
   },
   "file_extension": ".py",
   "mimetype": "text/x-python",
   "name": "python",
   "nbconvert_exporter": "python",
   "pygments_lexer": "ipython3",
   "version": "3.12.1"
  }
 },
 "nbformat": 4,
 "nbformat_minor": 5
}
