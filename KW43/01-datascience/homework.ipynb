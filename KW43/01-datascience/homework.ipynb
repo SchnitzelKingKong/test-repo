{
 "cells": [
  {
   "cell_type": "markdown",
   "id": "6a7e4c7c",
   "metadata": {},
   "source": [
    "### Importing main API and Data Source"
   ]
  },
  {
   "cell_type": "code",
   "execution_count": 23,
   "id": "1bce5aa8",
   "metadata": {},
   "outputs": [],
   "source": [
    "import numpy as np\n",
    "from datetime import datetime\n",
    "DATA = \"./wetter.csv\""
   ]
  },
  {
   "cell_type": "code",
   "execution_count": 24,
   "id": "dcdbbffd",
   "metadata": {},
   "outputs": [],
   "source": [
    "arr = np.genfromtxt(DATA, delimiter=',', skip_header=1)   # dtype=float by default\n",
    "# arr is a 2D numpy.ndarray\n",
    "# print(arr.shape)\n",
    "# print(arr[:3])  # first 3 rows\n",
    "\n",
    "# data = [1, 2, 3, 4, 5, 6, 9.87654321]\n",
    "data = arr[:,2]\n",
    "mean = np.mean(data)"
   ]
  },
  {
   "cell_type": "code",
   "execution_count": 25,
   "id": "a3dd3892",
   "metadata": {},
   "outputs": [],
   "source": [
    "# Datei einlesen, Datumsspalte als String behalten\n",
    "arr = np.genfromtxt(DATA, delimiter=',', skip_header=1, dtype=None, encoding='utf-8')\n",
    "\n",
    "# Beispiel: Spaltenreihenfolge (Datum,Bewoelkung,Temperatur,Windgeschwindigkeit,Wettercode)\n",
    "dates = np.array([datetime.strptime(row[0], \"%Y-%m-%d\") for row in arr])\n",
    "temps = np.array([row[2] for row in arr], dtype=float)\n"
   ]
  },
  {
   "cell_type": "code",
   "execution_count": 26,
   "id": "d0b2ed94",
   "metadata": {},
   "outputs": [],
   "source": [
    "# create months once\n",
    "months = np.array([d.month for d in dates])\n",
    "\n",
    "# define mask specs (you can add more tuples/lists)\n",
    "mask_specs = [[5, 6, 7], [5], [7]]\n",
    "\n",
    "# build list of boolean masks (each mask is 1D, length == len(dates))\n",
    "masks = [np.isin(months, vals) for vals in mask_specs]\n",
    "\n",
    "# filtered temperatures per mask: list of 1D numpy arrays\n",
    "temps_filtered = [temps[m] for m in masks]\n",
    "\n",
    "# convert to object array if you prefer numpy-indexable container\n",
    "temps_filtered_arr = np.array(temps_filtered, dtype=object)\n",
    "\n",
    "# per-mask means (use nanmean to ignore NaNs)\n",
    "mean_temps = np.array([np.nanmean(t) if t.size else np.nan for t in temps_filtered])\n",
    "\n",
    "# calculation (MAE [Mean Absolut Error] – also is a good use case for the np.abs() function!)\n",
    "diff = np.abs(mean_temps[1]-mean_temps[2])\n",
    "\n",
    "# example prints by integer index\n",
    "# print(\"temps_filtered for mask 0:\", temps_filtered_arr[0])   # array of temps for [5,7]"
   ]
  },
  {
   "cell_type": "markdown",
   "id": "f2fa7235",
   "metadata": {},
   "source": [
    "### Organizing Final Outputs"
   ]
  },
  {
   "cell_type": "code",
   "execution_count": 27,
   "id": "7d0991e9",
   "metadata": {},
   "outputs": [
    {
     "name": "stdout",
     "output_type": "stream",
     "text": [
      "\n",
      "-------------------------------------------------------\n",
      " TEMPERATURE STATISTICS\n",
      "-------------------------------------------------------\n",
      "\n",
      "mean_T (all)        =  12.10°C\n",
      "mean_T (may-july)   =  18.15°C\n",
      "\n",
      "mean_T (may)        =  15.24°C\n",
      "mean_T (july)       =  20.75°C\n",
      "\n",
      "ΔT(may, july)       = |15.24°C - 20.75°C| = 5.51°C\n",
      "\n",
      "data                = [ 9.825   7.4375  5.5375 ... 20.7375 20.45   21.0625]\n",
      "\n",
      "-------------------------------------------------------\n",
      "\n"
     ]
    }
   ],
   "source": [
    "\n",
    "print(\"\\n\" + \"-\"*55)\n",
    "print(\" TEMPERATURE STATISTICS\")\n",
    "print(\"-\"*55 + \"\\n\")\n",
    "\n",
    "print(f\"mean_T (all)        = {mean:6.2f}°C\")\n",
    "print(f\"mean_T (may-july)   = {mean_temps[0]:6.2f}°C\\n\")\n",
    "\n",
    "print(f\"mean_T (may)        = {mean_temps[1]:6.2f}°C\")\n",
    "print(f\"mean_T (july)       = {mean_temps[2]:6.2f}°C\\n\")\n",
    "\n",
    "print(f\"ΔT(may, july)       = |{mean_temps[1]:.2f}°C - {mean_temps[2]:.2f}°C| = {diff:.2f}°C\\n\")\n",
    "print(f\"data                = {data}\\n\")\n",
    "\n",
    "print(\"-\"*55 + \"\\n\")"
   ]
  }
 ],
 "metadata": {
  "kernelspec": {
   "display_name": "Python 3",
   "language": "python",
   "name": "python3"
  },
  "language_info": {
   "codemirror_mode": {
    "name": "ipython",
    "version": 3
   },
   "file_extension": ".py",
   "mimetype": "text/x-python",
   "name": "python",
   "nbconvert_exporter": "python",
   "pygments_lexer": "ipython3",
   "version": "3.12.1"
  }
 },
 "nbformat": 4,
 "nbformat_minor": 5
}
