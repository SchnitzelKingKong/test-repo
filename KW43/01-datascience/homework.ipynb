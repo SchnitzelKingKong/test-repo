{
 "cells": [
  {
   "cell_type": "markdown",
   "id": "6a7e4c7c",
   "metadata": {},
   "source": [
    "# Assignment One: Temperature Stats from CSV\n",
    "\n",
    "---\n",
    "### Importing main API and Data Source"
   ]
  },
  {
   "cell_type": "code",
   "execution_count": null,
   "id": "1bce5aa8",
   "metadata": {},
   "outputs": [],
   "source": [
    "import numpy as np\n",
    "import calendar as cal\n",
    "from datetime import datetime\n",
    "import matplotlib.pyplot as plt\n",
    "import math"
   ]
  },
  {
   "cell_type": "markdown",
   "id": "46d36469",
   "metadata": {},
   "source": [
    "### Task (1)"
   ]
  },
  {
   "cell_type": "code",
   "execution_count": 962,
   "id": "dcdbbffd",
   "metadata": {},
   "outputs": [],
   "source": [
    "# TODO : Calculate the overall average temperature.\n",
    "DATA = \"wetter.csv\"\n",
    "# Reading CSV file and transforming it to full data array.\n",
    "arr_total = np.genfromtxt(DATA, delimiter=',', skip_header=1)   # dtype=float by default\n",
    "\n",
    "# Putting Data into a 1D Array (data = [1, 2, 3, 4, 5, 6, 9.87654321])\n",
    "data = arr_total[:,2]                 # (:) all rows, (2) 3rd column from the left (count starts at 0)\n",
    "mean_temp_all = np.mean(data)            # averaging dataset with the 'np.mean()' function"
   ]
  },
  {
   "cell_type": "code",
   "execution_count": 963,
   "id": "bb9c46c3",
   "metadata": {},
   "outputs": [
    {
     "name": "stdout",
     "output_type": "stream",
     "text": [
      "\n",
      "-------------------------------------------------------\n",
      " TEMPERATURE STATISTICS\n",
      "-------------------------------------------------------\n",
      "\n",
      "# Task(1):   Average temp (all year):         12.10°C\n"
     ]
    }
   ],
   "source": [
    "# Printing results of calcs\n",
    "print(\"\\n\" + \"-\"*55)\n",
    "print(\" TEMPERATURE STATISTICS\")\n",
    "print(\"-\"*55 + \"\\n\")\n",
    "print(f\"# Task(1):   Average temp (all year):         {mean_temp_all:.2f}°C\")"
   ]
  },
  {
   "cell_type": "markdown",
   "id": "faee0e00",
   "metadata": {},
   "source": [
    "### Task (2) & (3)"
   ]
  },
  {
   "cell_type": "code",
   "execution_count": 964,
   "id": "a3dd3892",
   "metadata": {},
   "outputs": [],
   "source": [
    "# TODO : Calculate the average temperature for the month of July.\n",
    "\n",
    "# Reading CSV file and transforming it to full data array. Keeping Date column as string -> Tuple.\n",
    "arr = np.genfromtxt(DATA, delimiter=',', skip_header=1, dtype=None, encoding='utf-8')\n",
    "\n",
    "# Creating funciton to easily access monthly averages by a given integer (function attribute).\n",
    "def mean_temp_func(ls, month):\n",
    "    mm = {f\"{int(m):02d}\" for m in month}\n",
    "    vals = [float(r[2]) for r in ls if isinstance(r[0], str) and r[0][5:7] in mm]\n",
    "    return float(np.nanmean(vals)) if vals else np.nan"
   ]
  },
  {
   "cell_type": "code",
   "execution_count": 965,
   "id": "ab9b4ea5",
   "metadata": {},
   "outputs": [],
   "source": [
    "# TODO : Compare whether the months of July and May differ significantly in their average temperature.\n",
    "\n",
    "def avrg_temp(M=None,raw=False):\n",
    "    # Prefer existing mean_temp_all if you defined it in the notebook\n",
    "    try:\n",
    "        m = {int(M)}\n",
    "    except (TypeError, ValueError):\n",
    "        m = None\n",
    "    if m == None:\n",
    "        val = mean_temp_all # assumes arr and mean_temp_func are in scope\n",
    "        return val if raw else f\"{mean_temp_all:.2f}°C\"\n",
    "    else:\n",
    "        val = float(mean_temp_func(arr, m)) # assumes arr and mean_temp_func are in scope\n",
    "        return val if raw else f\"{val:.2f}°C\"\n",
    "    \n",
    "def dlt_temp(M1,M2,raw=0):\n",
    "    val = float(np.abs(avrg_temp(M1,True)-avrg_temp(M2,True)))\n",
    "    return val if raw else f\"{val:.2f}°C\""
   ]
  },
  {
   "cell_type": "code",
   "execution_count": null,
   "id": "7c5577e3",
   "metadata": {},
   "outputs": [],
   "source": [
    "def avrg_temp(M=None, raw=False):\n",
    "    #   Return the average temperature for the selected month(s).\n",
    "    #   \n",
    "    #   Accepts:\n",
    "    #       - None / \"\" / \"all\" / \"year\" → overall mean (mean_temp_all)\n",
    "    #       - single int / float-like / numeric string → that month\n",
    "    #       - list / tuple / set / other iterable → keeps any month numbers inside\n",
    "\n",
    "    # Formats the return value to either raw numbers or a string for text outputs.\n",
    "    def fmt(value):\n",
    "        return value if raw else f\"{value:.2f}°C\"\n",
    "\n",
    "    # Evaluates if working with strings, numbers and arrays.\n",
    "    def normalize(obj):\n",
    "        \n",
    "        # Single scalar (int-like) case\n",
    "        if isinstance(obj, (int, float)) or (isinstance(obj, str) and obj.strip().isdigit()):\n",
    "            try:\n",
    "                value = int(obj)\n",
    "                if 1 <= value <= 12:\n",
    "                    yield value\n",
    "            except ValueError:\n",
    "                return\n",
    "            return\n",
    "\n",
    "        # Strings that mean \"overall\"\n",
    "        if isinstance(obj, str) and obj.strip().lower() in {\"\", \"all\", \"year\"}:\n",
    "            return\n",
    "\n",
    "        # Generic iterables (list, tuple, set, etc.)\n",
    "        if isinstance(obj, (list, tuple, set)):\n",
    "            for item in obj:\n",
    "                yield from normalize(item)\n",
    "\n",
    "    # Decides on months\n",
    "    months = set(normalize(M))\n",
    "    if not months:\n",
    "        overall = float(mean_temp_all)  # assumes mean_temp_all, arr, mean_temp_func exist\n",
    "        return fmt(overall)\n",
    "    value = float(mean_temp_func(arr, months))\n",
    "    return fmt(value)\n"
   ]
  },
  {
   "cell_type": "code",
   "execution_count": 967,
   "id": "9395ead3",
   "metadata": {},
   "outputs": [
    {
     "name": "stdout",
     "output_type": "stream",
     "text": [
      "\n",
      "-------------------------------------------------------\n",
      " TEMPERATURE STATISTICS\n",
      "-------------------------------------------------------\n",
      "\n",
      "# Task(1):   Average temp (all year):         12.10°C\n",
      "# Task(2):   Average temp (jul):              20.75°C\n",
      "# Task(2):   Average temp (may):              15.24°C\n",
      "# Task(3):   Difference temp (ΔT[may,jul]):   5.51°C\n",
      "-------------------------------------------------------\n",
      "\n",
      "# ###        Average temp (ΔT[may,jun,jul]):  18.15°C\n",
      "-------------------------------------------------------\n",
      "\n",
      "# ###        Average temp (test):             18.15°C\n",
      "# ###        Average temp (test):             12.10°C\n",
      "# ###        Average temp (test):             15.24°C\n",
      "# ###        Average temp (test):             15.24°C\n",
      "# ###        Average temp (test):             10.20°C\n",
      "# ###        Average temp (test):             10.20°C\n",
      "# ###        Average temp (test):             12.10°C\n",
      "# ###        Average temp (test):             12.10°C\n",
      "# ###        Average temp (test):             15.24°C\n",
      "# ###        Average temp (test):             15.24°C\n",
      "# ###        Average temp (test):             12.10°C\n"
     ]
    }
   ],
   "source": [
    "\n",
    "# Computing & printing results of task (1)(2)(3).\n",
    "print(\"\\n\" + \"-\"*55)\n",
    "print(\" TEMPERATURE STATISTICS\")\n",
    "print(\"-\"*55 + \"\\n\")\n",
    "print(f\"# Task(1):   Average temp (all year):         {avrg_temp()}\")\n",
    "print(f\"# Task(2):   Average temp (jul):              {avrg_temp(7)}\")\n",
    "print(f\"# Task(2):   Average temp (may):              {avrg_temp(5)}\")\n",
    "print(f\"# Task(3):   Difference temp (ΔT[may,jul]):   {dlt_temp(7,5)}\")\n",
    "print(\"-\"*55 + \"\\n\")\n",
    "print(f\"# ###        Average temp (ΔT[may,jun,jul]):  {avrg_temp([5,6,7])}\")\n",
    "print(\"-\"*55 + \"\\n\")\n",
    "print(f\"# ###        Average temp (test):             {avrg_temp([5,6,7])}\")\n",
    "print(f\"# ###        Average temp (test):             {avrg_temp(15)}\")\n",
    "print(f\"# ###        Average temp (test):             {avrg_temp('5')}\")\n",
    "print(f\"# ###        Average temp (test):             {avrg_temp(\"5\")}\")\n",
    "print(f\"# ###        Average temp (test):             {avrg_temp({5,2})}\")\n",
    "print(f\"# ###        Average temp (test):             {avrg_temp([\"5\",2])}\")\n",
    "print(f\"# ###        Average temp (test):             {avrg_temp([\"5,6,9\"])}\")\n",
    "print(f\"# ###        Average temp (test):             {avrg_temp()}\")\n",
    "print(f\"# ###        Average temp (test):             {avrg_temp(5)}\")\n",
    "print(f\"# ###        Average temp (test):             {avrg_temp(5)}\")\n",
    "print(f\"# ###        Average temp (test):             {avrg_temp('100')}\")"
   ]
  },
  {
   "cell_type": "code",
   "execution_count": 968,
   "id": "6fc26f84",
   "metadata": {},
   "outputs": [
    {
     "name": "stdout",
     "output_type": "stream",
     "text": [
      "\n",
      "-------------------------------------------------------\n",
      " TEMPERATURE COMPARISON\n",
      "-------------------------------------------------------\n",
      "\n",
      "# Task(3.0):  Difference temp (ΔT[may,jul]):  5.51°C\n",
      "\n",
      "# Task(3.1):  Difference temp (ΔT[apr,jun]):  7.80°C\n",
      "# Task(3.2):  Difference temp (ΔT[mar,may]):  7.88°C\n",
      "# Task(3.3):  Difference temp (ΔT[feb,apr]):  6.80°C\n",
      "# Task(3.4):  Difference temp (ΔT[jan,mar]):  4.50°C\n",
      "# Task(3.5):  Difference temp (ΔT[dec,feb]):  1.22°C\n",
      "# Task(3.6):  Difference temp (ΔT[nov,jan]):  4.53°C\n",
      "# Task(3.7):  Difference temp (ΔT[nov,jan]):  7.52°C\n",
      "# Task(3.8):  Difference temp (ΔT[nov,jan]):  9.55°C\n",
      "# Task(3.9):  Difference temp (ΔT[nov,jan]):  7.67°C\n",
      "# Task(3.10): Difference temp (ΔT[nov,jan]):  3.81°C\n",
      "# Task(3.11): Difference temp (ΔT[nov,jan]):  1.80°C\n",
      "\n"
     ]
    }
   ],
   "source": [
    "# Printing difference temp 2-months steps\n",
    "print(\"\\n\" + \"-\"*55)\n",
    "print(\" TEMPERATURE COMPARISON\")\n",
    "print(\"-\"*55 + \"\\n\")\n",
    "print(f\"# Task(3.0):  Difference temp (ΔT[may,jul]):  {np.abs(mean_temp_func(arr,{5})-mean_temp_func(arr,{7})):.2f}°C\\n\")\n",
    "print(f\"# Task(3.1):  Difference temp (ΔT[apr,jun]):  {np.abs(mean_temp_func(arr,{4})-mean_temp_func(arr,{6})):.2f}°C\")\n",
    "print(f\"# Task(3.2):  Difference temp (ΔT[mar,may]):  {np.abs(mean_temp_func(arr,{3})-mean_temp_func(arr,{5})):.2f}°C\")\n",
    "print(f\"# Task(3.3):  Difference temp (ΔT[feb,apr]):  {np.abs(mean_temp_func(arr,{2})-mean_temp_func(arr,{4})):.2f}°C\")\n",
    "print(f\"# Task(3.4):  Difference temp (ΔT[jan,mar]):  {np.abs(mean_temp_func(arr,{1})-mean_temp_func(arr,{3})):.2f}°C\")\n",
    "print(f\"# Task(3.5):  Difference temp (ΔT[dec,feb]):  {np.abs(mean_temp_func(arr,{12})-mean_temp_func(arr,{2})):.2f}°C\")\n",
    "print(f\"# Task(3.6):  Difference temp (ΔT[nov,jan]):  {np.abs(mean_temp_func(arr,{11})-mean_temp_func(arr,{1})):.2f}°C\")\n",
    "print(f\"# Task(3.7):  Difference temp (ΔT[nov,jan]):  {np.abs(mean_temp_func(arr,{10})-mean_temp_func(arr,{12})):.2f}°C\")\n",
    "print(f\"# Task(3.8):  Difference temp (ΔT[nov,jan]):  {np.abs(mean_temp_func(arr,{9})-mean_temp_func(arr,{11})):.2f}°C\")\n",
    "print(f\"# Task(3.9):  Difference temp (ΔT[nov,jan]):  {np.abs(mean_temp_func(arr,{8})-mean_temp_func(arr,{10})):.2f}°C\")\n",
    "print(f\"# Task(3.10): Difference temp (ΔT[nov,jan]):  {np.abs(mean_temp_func(arr,{7})-mean_temp_func(arr,{9})):.2f}°C\")\n",
    "print(f\"# Task(3.11): Difference temp (ΔT[nov,jan]):  {np.abs(mean_temp_func(arr,{6})-mean_temp_func(arr,{8})):.2f}°C\\n\")"
   ]
  }
 ],
 "metadata": {
  "kernelspec": {
   "display_name": "Python 3",
   "language": "python",
   "name": "python3"
  },
  "language_info": {
   "codemirror_mode": {
    "name": "ipython",
    "version": 3
   },
   "file_extension": ".py",
   "mimetype": "text/x-python",
   "name": "python",
   "nbconvert_exporter": "python",
   "pygments_lexer": "ipython3",
   "version": "3.12.1"
  }
 },
 "nbformat": 4,
 "nbformat_minor": 5
}
