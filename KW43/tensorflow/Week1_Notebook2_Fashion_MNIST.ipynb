{
  "cells": [
    {
      "cell_type": "markdown",
      "metadata": {
        "id": "AHIJo1j0gxgx"
      },
      "source": [
        "# Neural Networks on Fashion MNIST Dataset\n",
        "\n",
        "## Objective\n",
        "In this week's exercise, you will:\n",
        "1. Utilize callback functions to monitor model's performance during training.\n",
        "2. Experiment with different layer sizes to observe their effects on prediction accuracy and training speed.\n",
        "3. Implement pixel value normalization to improve network training speed.\n",
        "4. Construct a multilayer neural network to classify the Fashion MNIST image dataset.\n",
        "\n",
        "---\n",
        "\n",
        "## Step 1: Import Libraries\n",
        "Let's start by importing the necessary libraries.\n"
      ]
    },
    {
      "cell_type": "code",
      "execution_count": null,
      "metadata": {
        "id": "nrVKyZGxgxg1"
      },
      "outputs": [],
      "source": [
        "import numpy as np\n",
        "import matplotlib.pyplot as plt\n",
        "import tensorflow as tf\n",
        "from tensorflow.keras.datasets import fashion_mnist\n"
      ]
    },
    {
      "cell_type": "markdown",
      "metadata": {
        "id": "hJjtdMbxgxg3"
      },
      "source": [
        "---\n",
        "\n",
        "## Step 2: Load and Preprocess the Data\n",
        "We'll load the Fashion MNIST dataset and then normalize the pixel values.\n"
      ]
    },
    {
      "cell_type": "code",
      "execution_count": null,
      "metadata": {
        "id": "j7YR3kBfgxg5"
      },
      "outputs": [],
      "source": [
        "# TODO Load the dataset using the fashion_mnist.load_data() function\n",
        "(train_images, train_labels), (test_images, test_labels) = ...\n",
        "\n",
        "# TODO Normalize the pixel values to be in range 0..1\n"
      ]
    },
    {
      "cell_type": "markdown",
      "metadata": {
        "id": "fwZpaG17gxg7"
      },
      "source": [
        "---\n",
        "\n",
        "## Step 3: Visualize the Data\n",
        "Display some samples from the dataset.\n"
      ]
    },
    {
      "cell_type": "code",
      "execution_count": null,
      "metadata": {
        "id": "DsMiF1kigxg-"
      },
      "outputs": [],
      "source": [
        "plt.figure(figsize=(10,10))\n",
        "for i in range(25):\n",
        "    plt.subplot(5,5,i+1)\n",
        "    plt.xticks([])\n",
        "    plt.yticks([])\n",
        "    plt.grid(False)\n",
        "    plt.imshow(train_images[i], cmap=plt.cm.binary)\n",
        "    plt.xlabel(train_labels[i])\n",
        "plt.show()"
      ]
    },
    {
      "cell_type": "markdown",
      "metadata": {
        "id": "VfDcTSqvgxhA"
      },
      "source": [
        "---\n",
        "\n",
        "## Step 4: Define a Callback\n",
        "Let's define a callback to monitor the model's accuracy during training.\n",
        "If you're unsure how to do this, (re-)watch this [video](https://www.youtube.com/watch?v=WUzLJZCKNu4) on Callbacks in TensorFlow."
      ]
    },
    {
      "cell_type": "code",
      "execution_count": null,
      "metadata": {
        "id": "I8su1GHVgxhC"
      },
      "outputs": [],
      "source": [
        "# TODO define a callback that interrupts training after an accuracy of 90% is reached\n",
        "class AccuracyCallback(tf.keras.callbacks.Callback):\n",
        "    pass\n",
        "\n",
        "accuracy_callback = AccuracyCallback()\n"
      ]
    },
    {
      "cell_type": "markdown",
      "metadata": {
        "id": "fEghI2jkgxhE"
      },
      "source": [
        "---\n",
        "\n",
        "## Step 5: Build a Neural Network\n",
        "We will start with a simple neural network and then experiment with different layer sizes.\n"
      ]
    },
    {
      "cell_type": "code",
      "execution_count": null,
      "metadata": {
        "id": "ObwYue4AgxhF"
      },
      "outputs": [],
      "source": [
        "# TODO build an initial model (hint: you might need to flatten the input in the beginning)\n",
        "\n",
        "# TODO compile your model, choose a suitable loss function and metric for measuring training performance\n",
        "# Optional: research optimizers and try changing the optimizer to one other than the default setting\n",
        "\n"
      ]
    },
    {
      "cell_type": "markdown",
      "metadata": {
        "id": "yUrkxQnUgxhG"
      },
      "source": [
        "---\n",
        "\n",
        "## Step 6: Train the Model\n",
        "Train the model using the training data and your callback function.\n"
      ]
    },
    {
      "cell_type": "code",
      "execution_count": null,
      "metadata": {
        "id": "mdcuhD6vgxhH"
      },
      "outputs": [],
      "source": [
        "# TODO Train the model"
      ]
    },
    {
      "cell_type": "markdown",
      "metadata": {
        "id": "1ykoGwcHgxhH"
      },
      "source": [
        "---\n",
        "\n",
        "## Step 7: Evaluate the Model\n",
        "Evaluate the model using the test data.\n"
      ]
    },
    {
      "cell_type": "code",
      "execution_count": null,
      "metadata": {
        "id": "0AbaerlHgxhI"
      },
      "outputs": [],
      "source": [
        "test_loss, test_accuracy = model.evaluate(test_images, test_labels)\n",
        "print(f\"Test accuracy: {test_accuracy*100:.2f}%\")\n"
      ]
    },
    {
      "cell_type": "markdown",
      "metadata": {
        "id": "IUAxsSC2gxhI"
      },
      "source": [
        "---\n",
        "\n",
        "## Step 8: Experiment with Layer Sizes\n",
        "Modify the neural network architecture by changing the layer sizes, and note the effects on training speed and prediction accuracy. You are encouraged to experiment with various configurations.\n"
      ]
    },
    {
      "cell_type": "code",
      "execution_count": null,
      "metadata": {
        "id": "q13kg9jogxhJ"
      },
      "outputs": [],
      "source": []
    }
  ],
  "metadata": {
    "kernelspec": {
      "display_name": ".ve_tensorflow_course",
      "language": "python",
      "name": "python3"
    },
    "language_info": {
      "codemirror_mode": {
        "name": "ipython",
        "version": 3
      },
      "file_extension": ".py",
      "mimetype": "text/x-python",
      "name": "python",
      "nbconvert_exporter": "python",
      "pygments_lexer": "ipython3",
      "version": "3.10.10"
    },
    "orig_nbformat": 4,
    "colab": {
      "provenance": []
    }
  },
  "nbformat": 4,
  "nbformat_minor": 0
}