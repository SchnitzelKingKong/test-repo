{
 "cells": [
  {
   "cell_type": "code",
   "execution_count": null,
   "id": "d19e2e01",
   "metadata": {},
   "outputs": [],
   "source": [
    "import numpy as np\n",
    "\n",
    "data = np.array([1, 2, 3, 4, 5, 6, 9.87654321])\n",
    "mean = np.mean(data)\n",
    "# mean = np.mean([1, 2, 3, 4, 5, 6, 9.87654321])\n",
    "\n",
    "print(\"\\n\" + \"-\"*55)\n",
    "print(\" FIRST TASK AVERAGE NUMBER SEQUENCE\")\n",
    "print(\"-\"*55 + \"\\n\")\n",
    "\n",
    "print(f\"mean_N              ≈ {mean:.3f}\\n\")\n",
    "print(f\"data                = {data}\")"
   ]
  }
 ],
 "metadata": {
  "language_info": {
   "name": "python"
  }
 },
 "nbformat": 4,
 "nbformat_minor": 5
}
